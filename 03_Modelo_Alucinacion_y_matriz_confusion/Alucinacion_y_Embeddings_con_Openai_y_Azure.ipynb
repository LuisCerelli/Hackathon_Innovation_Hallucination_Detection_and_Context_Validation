{
 "cells": [
  {
   "cell_type": "code",
   "execution_count": 1,
   "metadata": {},
   "outputs": [],
   "source": [
    "# MUY IMPORTANTE, Devido a las ultimas actualizaciones, ocurridas recientemente, éste modelo funciona con una versión específica de openai. Asegúrate de instalar la versión correcta:\n",
    "# pip uninstall openai\n",
    "# pip install openai==0.27.8"
   ]
  },
  {
   "cell_type": "code",
   "execution_count": 2,
   "metadata": {},
   "outputs": [
    {
     "name": "stdout",
     "output_type": "stream",
     "text": [
      "Requirement already satisfied: openai in /Library/Frameworks/Python.framework/Versions/3.12/lib/python3.12/site-packages (1.58.1)\n",
      "Requirement already satisfied: azure-search-documents in /Library/Frameworks/Python.framework/Versions/3.12/lib/python3.12/site-packages (11.5.2)\n",
      "Requirement already satisfied: python-dotenv in /Library/Frameworks/Python.framework/Versions/3.12/lib/python3.12/site-packages (1.0.1)\n",
      "Requirement already satisfied: transformers in /Library/Frameworks/Python.framework/Versions/3.12/lib/python3.12/site-packages (4.47.0)\n",
      "Requirement already satisfied: scikit-learn in /Library/Frameworks/Python.framework/Versions/3.12/lib/python3.12/site-packages (1.4.2)\n",
      "Requirement already satisfied: matplotlib in /Library/Frameworks/Python.framework/Versions/3.12/lib/python3.12/site-packages (3.10.0)\n",
      "Requirement already satisfied: seaborn in /Library/Frameworks/Python.framework/Versions/3.12/lib/python3.12/site-packages (0.13.2)\n",
      "Requirement already satisfied: numpy in /Library/Frameworks/Python.framework/Versions/3.12/lib/python3.12/site-packages (1.26.4)\n",
      "Requirement already satisfied: spacy in /Library/Frameworks/Python.framework/Versions/3.12/lib/python3.12/site-packages (3.8.3)\n",
      "Requirement already satisfied: tiktoken in /Library/Frameworks/Python.framework/Versions/3.12/lib/python3.12/site-packages (0.7.0)\n",
      "Requirement already satisfied: anyio<5,>=3.5.0 in /Library/Frameworks/Python.framework/Versions/3.12/lib/python3.12/site-packages (from openai) (4.3.0)\n",
      "Requirement already satisfied: distro<2,>=1.7.0 in /Library/Frameworks/Python.framework/Versions/3.12/lib/python3.12/site-packages (from openai) (1.9.0)\n",
      "Requirement already satisfied: httpx<1,>=0.23.0 in /Library/Frameworks/Python.framework/Versions/3.12/lib/python3.12/site-packages (from openai) (0.27.0)\n",
      "Requirement already satisfied: jiter<1,>=0.4.0 in /Library/Frameworks/Python.framework/Versions/3.12/lib/python3.12/site-packages (from openai) (0.8.2)\n",
      "Requirement already satisfied: pydantic<3,>=1.9.0 in /Library/Frameworks/Python.framework/Versions/3.12/lib/python3.12/site-packages (from openai) (2.10.3)\n",
      "Requirement already satisfied: sniffio in /Library/Frameworks/Python.framework/Versions/3.12/lib/python3.12/site-packages (from openai) (1.3.1)\n",
      "Requirement already satisfied: tqdm>4 in /Library/Frameworks/Python.framework/Versions/3.12/lib/python3.12/site-packages (from openai) (4.66.4)\n",
      "Requirement already satisfied: typing-extensions<5,>=4.11 in /Library/Frameworks/Python.framework/Versions/3.12/lib/python3.12/site-packages (from openai) (4.12.2)\n",
      "Requirement already satisfied: azure-core>=1.28.0 in /Library/Frameworks/Python.framework/Versions/3.12/lib/python3.12/site-packages (from azure-search-documents) (1.32.0)\n",
      "Requirement already satisfied: azure-common>=1.1 in /Library/Frameworks/Python.framework/Versions/3.12/lib/python3.12/site-packages (from azure-search-documents) (1.1.28)\n",
      "Requirement already satisfied: isodate>=0.6.0 in /Library/Frameworks/Python.framework/Versions/3.12/lib/python3.12/site-packages (from azure-search-documents) (0.7.2)\n",
      "Requirement already satisfied: filelock in /Library/Frameworks/Python.framework/Versions/3.12/lib/python3.12/site-packages (from transformers) (3.14.0)\n",
      "Requirement already satisfied: huggingface-hub<1.0,>=0.24.0 in /Library/Frameworks/Python.framework/Versions/3.12/lib/python3.12/site-packages (from transformers) (0.27.0)\n",
      "Requirement already satisfied: packaging>=20.0 in /Users/luisalbertocerelli/Library/Python/3.12/lib/python/site-packages (from transformers) (24.0)\n",
      "Requirement already satisfied: pyyaml>=5.1 in /Library/Frameworks/Python.framework/Versions/3.12/lib/python3.12/site-packages (from transformers) (6.0.1)\n",
      "Requirement already satisfied: regex!=2019.12.17 in /Library/Frameworks/Python.framework/Versions/3.12/lib/python3.12/site-packages (from transformers) (2024.5.10)\n",
      "Requirement already satisfied: requests in /Library/Frameworks/Python.framework/Versions/3.12/lib/python3.12/site-packages (from transformers) (2.31.0)\n",
      "Requirement already satisfied: tokenizers<0.22,>=0.21 in /Library/Frameworks/Python.framework/Versions/3.12/lib/python3.12/site-packages (from transformers) (0.21.0)\n",
      "Requirement already satisfied: safetensors>=0.4.1 in /Library/Frameworks/Python.framework/Versions/3.12/lib/python3.12/site-packages (from transformers) (0.4.5)\n",
      "Requirement already satisfied: scipy>=1.6.0 in /Library/Frameworks/Python.framework/Versions/3.12/lib/python3.12/site-packages (from scikit-learn) (1.13.0)\n",
      "Requirement already satisfied: joblib>=1.2.0 in /Library/Frameworks/Python.framework/Versions/3.12/lib/python3.12/site-packages (from scikit-learn) (1.4.2)\n",
      "Requirement already satisfied: threadpoolctl>=2.0.0 in /Library/Frameworks/Python.framework/Versions/3.12/lib/python3.12/site-packages (from scikit-learn) (3.5.0)\n",
      "Requirement already satisfied: contourpy>=1.0.1 in /Library/Frameworks/Python.framework/Versions/3.12/lib/python3.12/site-packages (from matplotlib) (1.2.1)\n",
      "Requirement already satisfied: cycler>=0.10 in /Library/Frameworks/Python.framework/Versions/3.12/lib/python3.12/site-packages (from matplotlib) (0.12.1)\n",
      "Requirement already satisfied: fonttools>=4.22.0 in /Library/Frameworks/Python.framework/Versions/3.12/lib/python3.12/site-packages (from matplotlib) (4.51.0)\n",
      "Requirement already satisfied: kiwisolver>=1.3.1 in /Library/Frameworks/Python.framework/Versions/3.12/lib/python3.12/site-packages (from matplotlib) (1.4.5)\n",
      "Requirement already satisfied: pillow>=8 in /Library/Frameworks/Python.framework/Versions/3.12/lib/python3.12/site-packages (from matplotlib) (10.3.0)\n",
      "Requirement already satisfied: pyparsing>=2.3.1 in /Library/Frameworks/Python.framework/Versions/3.12/lib/python3.12/site-packages (from matplotlib) (3.1.2)\n",
      "Requirement already satisfied: python-dateutil>=2.7 in /Users/luisalbertocerelli/Library/Python/3.12/lib/python/site-packages (from matplotlib) (2.9.0.post0)\n",
      "Requirement already satisfied: pandas>=1.2 in /Library/Frameworks/Python.framework/Versions/3.12/lib/python3.12/site-packages (from seaborn) (2.2.2)\n",
      "Requirement already satisfied: spacy-legacy<3.1.0,>=3.0.11 in /Library/Frameworks/Python.framework/Versions/3.12/lib/python3.12/site-packages (from spacy) (3.0.12)\n",
      "Requirement already satisfied: spacy-loggers<2.0.0,>=1.0.0 in /Library/Frameworks/Python.framework/Versions/3.12/lib/python3.12/site-packages (from spacy) (1.0.5)\n",
      "Requirement already satisfied: murmurhash<1.1.0,>=0.28.0 in /Library/Frameworks/Python.framework/Versions/3.12/lib/python3.12/site-packages (from spacy) (1.0.11)\n",
      "Requirement already satisfied: cymem<2.1.0,>=2.0.2 in /Library/Frameworks/Python.framework/Versions/3.12/lib/python3.12/site-packages (from spacy) (2.0.10)\n",
      "Requirement already satisfied: preshed<3.1.0,>=3.0.2 in /Library/Frameworks/Python.framework/Versions/3.12/lib/python3.12/site-packages (from spacy) (3.0.9)\n",
      "Requirement already satisfied: thinc<8.4.0,>=8.3.0 in /Library/Frameworks/Python.framework/Versions/3.12/lib/python3.12/site-packages (from spacy) (8.3.3)\n",
      "Requirement already satisfied: wasabi<1.2.0,>=0.9.1 in /Library/Frameworks/Python.framework/Versions/3.12/lib/python3.12/site-packages (from spacy) (1.1.3)\n",
      "Requirement already satisfied: srsly<3.0.0,>=2.4.3 in /Library/Frameworks/Python.framework/Versions/3.12/lib/python3.12/site-packages (from spacy) (2.5.0)\n",
      "Requirement already satisfied: catalogue<2.1.0,>=2.0.6 in /Library/Frameworks/Python.framework/Versions/3.12/lib/python3.12/site-packages (from spacy) (2.0.10)\n",
      "Requirement already satisfied: weasel<0.5.0,>=0.1.0 in /Library/Frameworks/Python.framework/Versions/3.12/lib/python3.12/site-packages (from spacy) (0.4.1)\n",
      "Requirement already satisfied: typer<1.0.0,>=0.3.0 in /Library/Frameworks/Python.framework/Versions/3.12/lib/python3.12/site-packages (from spacy) (0.15.1)\n",
      "Requirement already satisfied: jinja2 in /Library/Frameworks/Python.framework/Versions/3.12/lib/python3.12/site-packages (from spacy) (3.1.4)\n",
      "Requirement already satisfied: setuptools in /Library/Frameworks/Python.framework/Versions/3.12/lib/python3.12/site-packages (from spacy) (69.5.1)\n",
      "Requirement already satisfied: langcodes<4.0.0,>=3.2.0 in /Library/Frameworks/Python.framework/Versions/3.12/lib/python3.12/site-packages (from spacy) (3.5.0)\n",
      "Requirement already satisfied: idna>=2.8 in /Library/Frameworks/Python.framework/Versions/3.12/lib/python3.12/site-packages (from anyio<5,>=3.5.0->openai) (2.10)\n",
      "Requirement already satisfied: six>=1.11.0 in /Users/luisalbertocerelli/Library/Python/3.12/lib/python/site-packages (from azure-core>=1.28.0->azure-search-documents) (1.16.0)\n",
      "Requirement already satisfied: certifi in /Library/Frameworks/Python.framework/Versions/3.12/lib/python3.12/site-packages (from httpx<1,>=0.23.0->openai) (2024.6.2)\n",
      "Requirement already satisfied: httpcore==1.* in /Library/Frameworks/Python.framework/Versions/3.12/lib/python3.12/site-packages (from httpx<1,>=0.23.0->openai) (1.0.5)\n",
      "Requirement already satisfied: h11<0.15,>=0.13 in /Library/Frameworks/Python.framework/Versions/3.12/lib/python3.12/site-packages (from httpcore==1.*->httpx<1,>=0.23.0->openai) (0.14.0)\n",
      "Requirement already satisfied: fsspec>=2023.5.0 in /Library/Frameworks/Python.framework/Versions/3.12/lib/python3.12/site-packages (from huggingface-hub<1.0,>=0.24.0->transformers) (2024.6.1)\n",
      "Requirement already satisfied: language-data>=1.2 in /Library/Frameworks/Python.framework/Versions/3.12/lib/python3.12/site-packages (from langcodes<4.0.0,>=3.2.0->spacy) (1.3.0)\n",
      "Requirement already satisfied: pytz>=2020.1 in /Library/Frameworks/Python.framework/Versions/3.12/lib/python3.12/site-packages (from pandas>=1.2->seaborn) (2024.1)\n",
      "Requirement already satisfied: tzdata>=2022.7 in /Library/Frameworks/Python.framework/Versions/3.12/lib/python3.12/site-packages (from pandas>=1.2->seaborn) (2024.1)\n",
      "Requirement already satisfied: annotated-types>=0.6.0 in /Library/Frameworks/Python.framework/Versions/3.12/lib/python3.12/site-packages (from pydantic<3,>=1.9.0->openai) (0.6.0)\n",
      "Requirement already satisfied: pydantic-core==2.27.1 in /Library/Frameworks/Python.framework/Versions/3.12/lib/python3.12/site-packages (from pydantic<3,>=1.9.0->openai) (2.27.1)\n",
      "Requirement already satisfied: charset-normalizer<4,>=2 in /Library/Frameworks/Python.framework/Versions/3.12/lib/python3.12/site-packages (from requests->transformers) (3.3.2)\n",
      "Requirement already satisfied: urllib3<3,>=1.21.1 in /Library/Frameworks/Python.framework/Versions/3.12/lib/python3.12/site-packages (from requests->transformers) (2.2.1)\n",
      "Requirement already satisfied: blis<1.2.0,>=1.1.0 in /Library/Frameworks/Python.framework/Versions/3.12/lib/python3.12/site-packages (from thinc<8.4.0,>=8.3.0->spacy) (1.1.0)\n",
      "Requirement already satisfied: confection<1.0.0,>=0.0.1 in /Library/Frameworks/Python.framework/Versions/3.12/lib/python3.12/site-packages (from thinc<8.4.0,>=8.3.0->spacy) (0.1.5)\n",
      "Requirement already satisfied: click>=8.0.0 in /Library/Frameworks/Python.framework/Versions/3.12/lib/python3.12/site-packages (from typer<1.0.0,>=0.3.0->spacy) (8.1.7)\n",
      "Requirement already satisfied: shellingham>=1.3.0 in /Library/Frameworks/Python.framework/Versions/3.12/lib/python3.12/site-packages (from typer<1.0.0,>=0.3.0->spacy) (1.5.4)\n",
      "Requirement already satisfied: rich>=10.11.0 in /Library/Frameworks/Python.framework/Versions/3.12/lib/python3.12/site-packages (from typer<1.0.0,>=0.3.0->spacy) (13.7.1)\n",
      "Requirement already satisfied: cloudpathlib<1.0.0,>=0.7.0 in /Library/Frameworks/Python.framework/Versions/3.12/lib/python3.12/site-packages (from weasel<0.5.0,>=0.1.0->spacy) (0.20.0)\n",
      "Requirement already satisfied: smart-open<8.0.0,>=5.2.1 in /Library/Frameworks/Python.framework/Versions/3.12/lib/python3.12/site-packages (from weasel<0.5.0,>=0.1.0->spacy) (7.1.0)\n",
      "Requirement already satisfied: MarkupSafe>=2.0 in /Library/Frameworks/Python.framework/Versions/3.12/lib/python3.12/site-packages (from jinja2->spacy) (2.1.5)\n",
      "Requirement already satisfied: marisa-trie>=1.1.0 in /Library/Frameworks/Python.framework/Versions/3.12/lib/python3.12/site-packages (from language-data>=1.2->langcodes<4.0.0,>=3.2.0->spacy) (1.2.1)\n",
      "Requirement already satisfied: markdown-it-py>=2.2.0 in /Library/Frameworks/Python.framework/Versions/3.12/lib/python3.12/site-packages (from rich>=10.11.0->typer<1.0.0,>=0.3.0->spacy) (3.0.0)\n",
      "Requirement already satisfied: pygments<3.0.0,>=2.13.0 in /Users/luisalbertocerelli/Library/Python/3.12/lib/python/site-packages (from rich>=10.11.0->typer<1.0.0,>=0.3.0->spacy) (2.17.2)\n",
      "Requirement already satisfied: wrapt in /Library/Frameworks/Python.framework/Versions/3.12/lib/python3.12/site-packages (from smart-open<8.0.0,>=5.2.1->weasel<0.5.0,>=0.1.0->spacy) (1.16.0)\n",
      "Requirement already satisfied: mdurl~=0.1 in /Library/Frameworks/Python.framework/Versions/3.12/lib/python3.12/site-packages (from markdown-it-py>=2.2.0->rich>=10.11.0->typer<1.0.0,>=0.3.0->spacy) (0.1.2)\n",
      "\n",
      "\u001b[1m[\u001b[0m\u001b[34;49mnotice\u001b[0m\u001b[1;39;49m]\u001b[0m\u001b[39;49m A new release of pip is available: \u001b[0m\u001b[31;49m24.2\u001b[0m\u001b[39;49m -> \u001b[0m\u001b[32;49m24.3.1\u001b[0m\n",
      "\u001b[1m[\u001b[0m\u001b[34;49mnotice\u001b[0m\u001b[1;39;49m]\u001b[0m\u001b[39;49m To update, run: \u001b[0m\u001b[32;49mpip install --upgrade pip\u001b[0m\n",
      "zsh:1: command not found: python\n"
     ]
    }
   ],
   "source": [
    "# Instalar las librerías necesarias 1\n",
    "!pip install openai azure-search-documents python-dotenv transformers scikit-learn matplotlib seaborn numpy spacy tiktoken\n",
    "!python -m spacy download es_core_news_sm"
   ]
  },
  {
   "cell_type": "code",
   "execution_count": 3,
   "metadata": {},
   "outputs": [],
   "source": [
    "# Instalar las librerías necesarias 2\n",
    "\n",
    "import os\n",
    "import openai\n",
    "from azure.core.credentials import AzureKeyCredential\n",
    "from azure.search.documents import SearchClient\n",
    "from dotenv import load_dotenv, find_dotenv\n",
    "from transformers import pipeline\n",
    "import numpy as np\n",
    "from sklearn.metrics import confusion_matrix, classification_report\n",
    "import matplotlib.pyplot as plt\n",
    "import seaborn as sns\n",
    "from sklearn.metrics.pairwise import cosine_similarity\n",
    "import tiktoken"
   ]
  },
  {
   "cell_type": "code",
   "execution_count": 4,
   "metadata": {},
   "outputs": [
    {
     "name": "stdout",
     "output_type": "stream",
     "text": [
      "Archivo .env encontrado en: /Users/luisalbertocerelli/Desktop/00-Todo/14_Hackaton_Real/00_MAIN_DE_MAIN/03_Modelo_Alucinacion_y_matriz_confusion/.env\n"
     ]
    }
   ],
   "source": [
    "# Cargar archivo .env\n",
    "dotenv_path = find_dotenv()\n",
    "if dotenv_path:\n",
    "    print(f\"Archivo .env encontrado en: {dotenv_path}\")\n",
    "    load_dotenv(dotenv_path)\n",
    "else:\n",
    "    print(\"Archivo .env no encontrado. Asegúrate de que exista y esté en la ruta correcta.\")"
   ]
  },
  {
   "cell_type": "markdown",
   "metadata": {},
   "source": [
    "### Configuración de credenciales para Azure Cognitive Search y OpenAI\n",
    "* Inicializa las variables necesarias para conectarse a servicios de Azure Cognitive Search y OpenAI.\n",
    "* Configura el cliente OpenAI con la clave API.\n",
    "* Configura el cliente de Azure Search con credenciales y el nombre del índice."
   ]
  },
  {
   "cell_type": "code",
   "execution_count": 5,
   "metadata": {},
   "outputs": [],
   "source": [
    "# Variables necesarias para Azure Cognitive Search\n",
    "AZURE_SEARCH_ENDPOINT = os.getenv(\"SEARCH_SERVICE_ENDPOINT\", \"\").strip()\n",
    "AZURE_SEARCH_KEY = os.getenv(\"SEARCH_API_KEY\", \"\").strip()\n",
    "INDEX_NAME = os.getenv(\"INDEX_NAME\", \"\").strip()"
   ]
  },
  {
   "cell_type": "code",
   "execution_count": 6,
   "metadata": {},
   "outputs": [],
   "source": [
    "# Variables necesarias para OpenAI\n",
    "OPENAI_API_KEY = os.getenv(\"OPENAI_API_KEY\", \"\").strip()\n",
    "MODEL_NAME = os.getenv(\"MODEL_NAME\", \"text-embedding-ada-002\").strip()"
   ]
  },
  {
   "cell_type": "code",
   "execution_count": 7,
   "metadata": {},
   "outputs": [],
   "source": [
    "# Configurar cliente OpenAI\n",
    "openai.api_key = OPENAI_API_KEY\n",
    "\n",
    "# Configuración para Azure OpenAI\n",
    "AZURE_OPENAI_ENDPOINT = os.getenv(\"AZURE_OPENAI_ENDPOINT\", \"\").strip()\n",
    "AZURE_OPENAI_KEY = os.getenv(\"AZURE_OPENAI_KEY\", \"\").strip()\n",
    "ENGINE_NAME = os.getenv(\"ENGINE_NAME\", MODEL_NAME)\n",
    "\n",
    "if AZURE_OPENAI_ENDPOINT and AZURE_OPENAI_KEY:\n",
    "    openai.api_type = \"azure\"\n",
    "    openai.api_base = AZURE_OPENAI_ENDPOINT\n",
    "    openai.api_version = \"2023-03-15-preview\"\n",
    "    openai.api_key = AZURE_OPENAI_KEY"
   ]
  },
  {
   "cell_type": "code",
   "execution_count": 8,
   "metadata": {},
   "outputs": [],
   "source": [
    "# Cliente de Azure Cognitive Search\n",
    "search_client = SearchClient(\n",
    "    endpoint=AZURE_SEARCH_ENDPOINT,\n",
    "    index_name=INDEX_NAME,\n",
    "    credential=AzureKeyCredential(AZURE_SEARCH_KEY)\n",
    ")"
   ]
  },
  {
   "cell_type": "markdown",
   "metadata": {},
   "source": [
    "### Pipeline de factualidad en español e ingles\n",
    "* Inicializa un pipeline de \"mrm8488/bert-multi-cased-finetuned-xquadv1\" especializado en preguntas y respuestas para evaluar factualidad en español e ingles."
   ]
  },
  {
   "cell_type": "code",
   "execution_count": 9,
   "metadata": {},
   "outputs": [
    {
     "name": "stderr",
     "output_type": "stream",
     "text": [
      "Some weights of the model checkpoint at mrm8488/bert-multi-cased-finetuned-xquadv1 were not used when initializing BertForQuestionAnswering: ['bert.pooler.dense.bias', 'bert.pooler.dense.weight']\n",
      "- This IS expected if you are initializing BertForQuestionAnswering from the checkpoint of a model trained on another task or with another architecture (e.g. initializing a BertForSequenceClassification model from a BertForPreTraining model).\n",
      "- This IS NOT expected if you are initializing BertForQuestionAnswering from the checkpoint of a model that you expect to be exactly identical (initializing a BertForSequenceClassification model from a BertForSequenceClassification model).\n",
      "Device set to use mps:0\n"
     ]
    }
   ],
   "source": [
    "\n",
    "# Carga pipeline de factualidad en español con el modelo \"mrm8488/bert-multi-cased-finetuned-xquadv1\" que es tanto para ingles como español.\n",
    "factual_pipeline = pipeline(\n",
    "    \"question-answering\",\n",
    "    model=\"mrm8488/bert-multi-cased-finetuned-xquadv1\",\n",
    "    tokenizer=\"mrm8488/bert-multi-cased-finetuned-xquadv1\",\n",
    "    framework=\"pt\"\n",
    ")"
   ]
  },
  {
   "cell_type": "markdown",
   "metadata": {},
   "source": [
    "### Funciones de manejo de texto y tokens\n",
    "* contar_tokens: Calcula la cantidad de tokens en un texto para un modelo específico.\n",
    "* dividir_texto_en_fragmentos: Divide un texto en fragmentos que no exceden el límite de tokens del modelo."
   ]
  },
  {
   "cell_type": "code",
   "execution_count": 10,
   "metadata": {},
   "outputs": [],
   "source": [
    "# Función para medir tokens\n",
    "def contar_tokens(texto, modelo=\"text-embedding-ada-002\"):\n",
    "    \"\"\"Cuenta la cantidad de tokens en un texto usando el modelo especificado.\"\"\"\n",
    "    tokenizador = tiktoken.encoding_for_model(modelo)\n",
    "    return len(tokenizador.encode(texto))"
   ]
  },
  {
   "cell_type": "code",
   "execution_count": 11,
   "metadata": {},
   "outputs": [],
   "source": [
    "# Función para dividir texto en fragmentos más pequeños\n",
    "def dividir_texto_en_fragmentos(texto, max_tokens=8192):\n",
    "    \"\"\"Divide un texto en fragmentos que no excedan el límite de tokens del modelo.\"\"\"\n",
    "    tokenizador = tiktoken.encoding_for_model(\"text-embedding-ada-002\")\n",
    "    tokens = tokenizador.encode(texto)\n",
    "\n",
    "    for i in range(0, len(tokens), max_tokens):\n",
    "        yield tokenizador.decode(tokens[i:i + max_tokens])"
   ]
  },
  {
   "cell_type": "markdown",
   "metadata": {},
   "source": [
    "### Funciones para validar y calcular embeddings\n",
    "* validar_embeddings: Verifica que un embedding no contenga valores inválidos.\n",
    "* obtener_embeddings_batch: Calcula embeddings para un lote de textos con validación y manejo de fragmentos."
   ]
  },
  {
   "cell_type": "code",
   "execution_count": 12,
   "metadata": {},
   "outputs": [],
   "source": [
    "# Función para validar embeddings\n",
    "def validar_embeddings(embedding):\n",
    "    \"\"\"Valida que el embedding no contenga NaN o valores inválidos.\"\"\"\n",
    "    if embedding is None or not np.isfinite(embedding).all():\n",
    "        return False\n",
    "    return True"
   ]
  },
  {
   "cell_type": "code",
   "execution_count": 13,
   "metadata": {},
   "outputs": [],
   "source": [
    "# Función para obtener embeddings usando batching con validación\n",
    "def obtener_embeddings_batch(textos):\n",
    "    \"\"\"Obtiene embeddings para un lote de textos en una sola solicitud, con validación.\"\"\"\n",
    "    embeddings_cache = []\n",
    "    for texto in textos:\n",
    "        if not texto or not texto.strip():\n",
    "            print(f\"Advertencia: Texto vacío o no válido detectado. Texto: '{texto}'\")\n",
    "            embeddings_cache.append(None)\n",
    "            continue\n",
    "\n",
    "        fragmentos = list(dividir_texto_en_fragmentos(texto, max_tokens=8192))\n",
    "        embedding_total = []\n",
    "\n",
    "        for fragmento in fragmentos:\n",
    "            try:\n",
    "                response = openai.Embedding.create(\n",
    "                    input=fragmento,\n",
    "                    engine=ENGINE_NAME\n",
    "                )\n",
    "                embedding_fragmento = response['data'][0]['embedding']\n",
    "\n",
    "                if not validar_embeddings(embedding_fragmento):\n",
    "                    embeddings_cache.append(None)\n",
    "                    break\n",
    "\n",
    "                embedding_total.append(embedding_fragmento)\n",
    "            except Exception as e:\n",
    "                embeddings_cache.append(None)\n",
    "                break\n",
    "\n",
    "        if embedding_total:\n",
    "            embeddings_cache.append(np.mean(embedding_total, axis=0))\n",
    "        else:\n",
    "            embeddings_cache.append(None)\n",
    "\n",
    "    return embeddings_cache"
   ]
  },
  {
   "cell_type": "markdown",
   "metadata": {},
   "source": [
    "### Función para verificar factualidad\n",
    "* verificar_factualidad_respuesta: Combina el pipeline de factualidad y la similitud de embeddings para determinar si una respuesta es factual."
   ]
  },
  {
   "cell_type": "code",
   "execution_count": 14,
   "metadata": {},
   "outputs": [],
   "source": [
    "# Función para verificar factualidad\n",
    "def verificar_factualidad_respuesta(respuesta, documentos_referencia, umbral=0.6):\n",
    "    \"\"\"Verifica la factualidad combinando pipeline y similitud semántica utilizando embeddings de OpenAI.\"\"\"\n",
    "    scores_factualidad = []\n",
    "    scores_similitud = []\n",
    "\n",
    "    for doc in documentos_referencia:\n",
    "        resultado = factual_pipeline(question=respuesta, context=doc[\"content\"])\n",
    "        scores_factualidad.append(resultado[\"score\"])\n",
    "\n",
    "        emb_respuesta = obtener_embeddings_batch([respuesta])[0]\n",
    "        emb_contexto = obtener_embeddings_batch([doc[\"content\"]])[0]\n",
    "\n",
    "        if emb_respuesta is None or emb_contexto is None:\n",
    "            continue\n",
    "\n",
    "        similarity = cosine_similarity([emb_respuesta], [emb_contexto])[0][0]\n",
    "        scores_similitud.append(similarity)\n",
    "\n",
    "    avg_factualidad = np.mean(scores_factualidad) if scores_factualidad else 0\n",
    "    avg_similitud = np.mean(scores_similitud) if scores_similitud else 0\n",
    "\n",
    "    peso_factualidad = 0.4\n",
    "    peso_similitud = 0.6\n",
    "    puntaje_total = (avg_factualidad * peso_factualidad) + (avg_similitud * peso_similitud)\n",
    "    es_factual = puntaje_total >= umbral\n",
    "    return puntaje_total, es_factual"
   ]
  },
  {
   "cell_type": "markdown",
   "metadata": {},
   "source": [
    "### Funciones de evaluación\n",
    "* evaluar_respuesta: Evalúa si una respuesta es factual, utilizando documentos de Azure y embeddings.\n",
    "* buscar_en_azure: Realiza una búsqueda en Azure Cognitive Search para obtener documentos relevantes."
   ]
  },
  {
   "cell_type": "code",
   "execution_count": 15,
   "metadata": {},
   "outputs": [],
   "source": [
    "# Evaluar respuesta\n",
    "def evaluar_respuesta(respuesta):\n",
    "    \"\"\"Evalúa si la respuesta es factual.\"\"\"\n",
    "    documentos = buscar_en_azure(respuesta)\n",
    "    if not documentos:\n",
    "        print(\"Advertencia: No se encontraron documentos. Evaluación como alucinación.\")\n",
    "        return 1  # Asumir alucinación\n",
    "\n",
    "    _, es_factual = verificar_factualidad_respuesta(respuesta, documentos)\n",
    "    return 0 if es_factual else 1"
   ]
  },
  {
   "cell_type": "code",
   "execution_count": 16,
   "metadata": {},
   "outputs": [],
   "source": [
    "# Función para buscar en Azure\n",
    "def buscar_en_azure(query):\n",
    "    \"\"\"Busca información relevante en Azure Search.\"\"\"\n",
    "    resultados = search_client.search(query)\n",
    "    documentos = []\n",
    "    for r in resultados:\n",
    "        documentos.append({\n",
    "            \"content\": r.get(\"content\", \"\"),  \n",
    "            \"source\": r.get(\"@search.documentkey\", \"unknown_source\") \n",
    "        })\n",
    "    return documentos"
   ]
  },
  {
   "cell_type": "markdown",
   "metadata": {},
   "source": [
    "### Generación y evaluación de datos para métricas\n",
    "* generar_datos_para_matriz: Genera predicciones y etiquetas reales para comparar respuestas con su ground truth."
   ]
  },
  {
   "cell_type": "code",
   "execution_count": 17,
   "metadata": {},
   "outputs": [],
   "source": [
    "# Generar datos para matriz de confusión\n",
    "def generar_datos_para_matriz(respuestas_y_groundtruth):\n",
    "    \"\"\"Genera predicciones y etiquetas reales.\"\"\"\n",
    "    resultados = []\n",
    "    for entrada in respuestas_y_groundtruth:\n",
    "        respuesta = entrada[\"respuesta\"]\n",
    "        groundtruth = entrada[\"groundtruth\"]\n",
    "        prediccion = evaluar_respuesta(respuesta)\n",
    "        resultados.append({\"groundtruth\": groundtruth, \"prediction\": prediccion})\n",
    "    return resultados"
   ]
  },
  {
   "cell_type": "markdown",
   "metadata": {},
   "source": [
    "### Visualización y análisis de resultados\n",
    "* calcular_matriz_confusion: Calcula y muestra la matriz de confusión y el informe de clasificación."
   ]
  },
  {
   "cell_type": "code",
   "execution_count": 23,
   "metadata": {},
   "outputs": [],
   "source": [
    "# Calcular y mostrar matriz de confusión\n",
    "def calcular_matriz_confusion(resultados):\n",
    "    \"\"\"Calcula y visualiza la matriz de confusión.\"\"\"\n",
    "    groundtruth = [r[\"groundtruth\"] for r in resultados]\n",
    "    prediction = [r[\"prediction\"] for r in resultados]\n",
    "\n",
    "    cm = confusion_matrix(groundtruth, prediction)\n",
    "    plt.figure(figsize=(8, 6))\n",
    "    sns.heatmap(cm, annot=True, fmt='d', cmap='Blues',\n",
    "                xticklabels=[\"Factual\", \"Alucinación\"], yticklabels=[\"Factual\", \"Alucinación\"])\n",
    "    plt.xlabel('Predicción')\n",
    "    plt.ylabel('Etiqueta Real')\n",
    "    plt.title('Matriz de Confusión')\n",
    "    plt.show()\n",
    "    print(classification_report(groundtruth, prediction, target_names=[\"Factual\", \"Alucinación\"]))"
   ]
  },
  {
   "cell_type": "code",
   "execution_count": 22,
   "metadata": {},
   "outputs": [],
   "source": [
    "# def calcular_matriz_confusion(resultados):\n",
    "#     \"\"\"Calcula y visualiza la matriz de confusión.\"\"\"\n",
    "#     groundtruth = [r[\"groundtruth\"] for r in resultados]\n",
    "#     prediction = [r[\"prediction\"] for r in resultados]\n",
    "\n",
    "#     # Depuración\n",
    "#     print(\"Groundtruth:\", groundtruth)\n",
    "#     print(\"Prediction:\", prediction)\n",
    "\n",
    "#     cm = confusion_matrix(groundtruth, prediction, labels=[0, 1])\n",
    "#     plt.figure(figsize=(8, 6))\n",
    "#     sns.heatmap(cm, annot=True, fmt='d', cmap='Blues',\n",
    "#                 xticklabels=[\"Factual\", \"Alucinación\"], yticklabels=[\"Factual\", \"Alucinación\"])\n",
    "#     plt.xlabel('Predicción')\n",
    "#     plt.ylabel('Etiqueta Real')\n",
    "#     plt.title('Matriz de Confusión')\n",
    "#     plt.show()\n",
    "\n",
    "#     print(classification_report(\n",
    "#         groundtruth,\n",
    "#         prediction,\n",
    "#         target_names=[\"Factual\", \"Alucinación\"],\n",
    "#         labels=[0, 1]\n",
    "#     ))\n"
   ]
  },
  {
   "cell_type": "markdown",
   "metadata": {},
   "source": [
    "### Flujo principal\n",
    "* Define un conjunto de datos de respuestas y ground truth.\n",
    "* Genera resultados a partir de las respuestas.\n",
    "* Calcula y visualiza la matriz de confusión para evaluar el modelo."
   ]
  },
  {
   "cell_type": "code",
   "execution_count": 24,
   "metadata": {},
   "outputs": [
    {
     "name": "stderr",
     "output_type": "stream",
     "text": [
      "/Library/Frameworks/Python.framework/Versions/3.12/lib/python3.12/site-packages/sklearn/metrics/_classification.py:386: UserWarning: A single label was found in 'y_true' and 'y_pred'. For the confusion matrix to have the correct shape, use the 'labels' parameter to pass all known labels.\n",
      "  warnings.warn(\n"
     ]
    },
    {
     "data": {
      "image/png": "[encoded data removed]",
      "text/plain": [
       "<Figure size 800x600 with 2 Axes>"
      ]
     },
     "metadata": {},
     "output_type": "display_data"
    },
    {
     "ename": "ValueError",
     "evalue": "Number of classes, 1, does not match size of target_names, 2. Try specifying the labels parameter",
     "output_type": "error",
     "traceback": [
      "\u001b[0;31m---------------------------------------------------------------------------\u001b[0m",
      "\u001b[0;31mValueError\u001b[0m                                Traceback (most recent call last)",
      "Cell \u001b[0;32mIn[24], line 10\u001b[0m\n\u001b[1;32m      3\u001b[0m   respuestas_y_groundtruth \u001b[38;5;241m=\u001b[39m [\n\u001b[1;32m      4\u001b[0m       {\n\u001b[1;32m      5\u001b[0m \u001b[38;5;124m\"\u001b[39m\u001b[38;5;124mrespuesta\u001b[39m\u001b[38;5;124m\"\u001b[39m: \u001b[38;5;124m\"\u001b[39m\u001b[38;5;124mPlacas solares elevadas permiten usar el espacio para agricultura.\u001b[39m\u001b[38;5;124m\"\u001b[39m,\n\u001b[1;32m      6\u001b[0m \u001b[38;5;124m\"\u001b[39m\u001b[38;5;124mgroundtruth\u001b[39m\u001b[38;5;124m\"\u001b[39m: \u001b[38;5;241m1\u001b[39m}\n\u001b[1;32m      7\u001b[0m   ]\n\u001b[1;32m      9\u001b[0m   resultados \u001b[38;5;241m=\u001b[39m generar_datos_para_matriz(respuestas_y_groundtruth)\n\u001b[0;32m---> 10\u001b[0m   \u001b[43mcalcular_matriz_confusion\u001b[49m\u001b[43m(\u001b[49m\u001b[43mresultados\u001b[49m\u001b[43m)\u001b[49m\n",
      "Cell \u001b[0;32mIn[23], line 15\u001b[0m, in \u001b[0;36mcalcular_matriz_confusion\u001b[0;34m(resultados)\u001b[0m\n\u001b[1;32m     13\u001b[0m plt\u001b[38;5;241m.\u001b[39mtitle(\u001b[38;5;124m'\u001b[39m\u001b[38;5;124mMatriz de Confusión\u001b[39m\u001b[38;5;124m'\u001b[39m)\n\u001b[1;32m     14\u001b[0m plt\u001b[38;5;241m.\u001b[39mshow()\n\u001b[0;32m---> 15\u001b[0m \u001b[38;5;28mprint\u001b[39m(\u001b[43mclassification_report\u001b[49m\u001b[43m(\u001b[49m\u001b[43mgroundtruth\u001b[49m\u001b[43m,\u001b[49m\u001b[43m \u001b[49m\u001b[43mprediction\u001b[49m\u001b[43m,\u001b[49m\u001b[43m \u001b[49m\u001b[43mtarget_names\u001b[49m\u001b[38;5;241;43m=\u001b[39;49m\u001b[43m[\u001b[49m\u001b[38;5;124;43m\"\u001b[39;49m\u001b[38;5;124;43mFactual\u001b[39;49m\u001b[38;5;124;43m\"\u001b[39;49m\u001b[43m,\u001b[49m\u001b[43m \u001b[49m\u001b[38;5;124;43m\"\u001b[39;49m\u001b[38;5;124;43mAlucinación\u001b[39;49m\u001b[38;5;124;43m\"\u001b[39;49m\u001b[43m]\u001b[49m\u001b[43m)\u001b[49m)\n",
      "File \u001b[0;32m/Library/Frameworks/Python.framework/Versions/3.12/lib/python3.12/site-packages/sklearn/utils/_param_validation.py:213\u001b[0m, in \u001b[0;36mvalidate_params.<locals>.decorator.<locals>.wrapper\u001b[0;34m(*args, **kwargs)\u001b[0m\n\u001b[1;32m    207\u001b[0m \u001b[38;5;28;01mtry\u001b[39;00m:\n\u001b[1;32m    208\u001b[0m     \u001b[38;5;28;01mwith\u001b[39;00m config_context(\n\u001b[1;32m    209\u001b[0m         skip_parameter_validation\u001b[38;5;241m=\u001b[39m(\n\u001b[1;32m    210\u001b[0m             prefer_skip_nested_validation \u001b[38;5;129;01mor\u001b[39;00m global_skip_validation\n\u001b[1;32m    211\u001b[0m         )\n\u001b[1;32m    212\u001b[0m     ):\n\u001b[0;32m--> 213\u001b[0m         \u001b[38;5;28;01mreturn\u001b[39;00m \u001b[43mfunc\u001b[49m\u001b[43m(\u001b[49m\u001b[38;5;241;43m*\u001b[39;49m\u001b[43margs\u001b[49m\u001b[43m,\u001b[49m\u001b[43m \u001b[49m\u001b[38;5;241;43m*\u001b[39;49m\u001b[38;5;241;43m*\u001b[39;49m\u001b[43mkwargs\u001b[49m\u001b[43m)\u001b[49m\n\u001b[1;32m    214\u001b[0m \u001b[38;5;28;01mexcept\u001b[39;00m InvalidParameterError \u001b[38;5;28;01mas\u001b[39;00m e:\n\u001b[1;32m    215\u001b[0m     \u001b[38;5;66;03m# When the function is just a wrapper around an estimator, we allow\u001b[39;00m\n\u001b[1;32m    216\u001b[0m     \u001b[38;5;66;03m# the function to delegate validation to the estimator, but we replace\u001b[39;00m\n\u001b[1;32m    217\u001b[0m     \u001b[38;5;66;03m# the name of the estimator by the name of the function in the error\u001b[39;00m\n\u001b[1;32m    218\u001b[0m     \u001b[38;5;66;03m# message to avoid confusion.\u001b[39;00m\n\u001b[1;32m    219\u001b[0m     msg \u001b[38;5;241m=\u001b[39m re\u001b[38;5;241m.\u001b[39msub(\n\u001b[1;32m    220\u001b[0m         \u001b[38;5;124mr\u001b[39m\u001b[38;5;124m\"\u001b[39m\u001b[38;5;124mparameter of \u001b[39m\u001b[38;5;124m\\\u001b[39m\u001b[38;5;124mw+ must be\u001b[39m\u001b[38;5;124m\"\u001b[39m,\n\u001b[1;32m    221\u001b[0m         \u001b[38;5;124mf\u001b[39m\u001b[38;5;124m\"\u001b[39m\u001b[38;5;124mparameter of \u001b[39m\u001b[38;5;132;01m{\u001b[39;00mfunc\u001b[38;5;241m.\u001b[39m\u001b[38;5;18m__qualname__\u001b[39m\u001b[38;5;132;01m}\u001b[39;00m\u001b[38;5;124m must be\u001b[39m\u001b[38;5;124m\"\u001b[39m,\n\u001b[1;32m    222\u001b[0m         \u001b[38;5;28mstr\u001b[39m(e),\n\u001b[1;32m    223\u001b[0m     )\n",
      "File \u001b[0;32m/Library/Frameworks/Python.framework/Versions/3.12/lib/python3.12/site-packages/sklearn/metrics/_classification.py:2626\u001b[0m, in \u001b[0;36mclassification_report\u001b[0;34m(y_true, y_pred, labels, target_names, sample_weight, digits, output_dict, zero_division)\u001b[0m\n\u001b[1;32m   2620\u001b[0m         warnings\u001b[38;5;241m.\u001b[39mwarn(\n\u001b[1;32m   2621\u001b[0m             \u001b[38;5;124m\"\u001b[39m\u001b[38;5;124mlabels size, \u001b[39m\u001b[38;5;132;01m{0}\u001b[39;00m\u001b[38;5;124m, does not match size of target_names, \u001b[39m\u001b[38;5;132;01m{1}\u001b[39;00m\u001b[38;5;124m\"\u001b[39m\u001b[38;5;241m.\u001b[39mformat(\n\u001b[1;32m   2622\u001b[0m                 \u001b[38;5;28mlen\u001b[39m(labels), \u001b[38;5;28mlen\u001b[39m(target_names)\n\u001b[1;32m   2623\u001b[0m             )\n\u001b[1;32m   2624\u001b[0m         )\n\u001b[1;32m   2625\u001b[0m     \u001b[38;5;28;01melse\u001b[39;00m:\n\u001b[0;32m-> 2626\u001b[0m         \u001b[38;5;28;01mraise\u001b[39;00m \u001b[38;5;167;01mValueError\u001b[39;00m(\n\u001b[1;32m   2627\u001b[0m             \u001b[38;5;124m\"\u001b[39m\u001b[38;5;124mNumber of classes, \u001b[39m\u001b[38;5;132;01m{0}\u001b[39;00m\u001b[38;5;124m, does not match size of \u001b[39m\u001b[38;5;124m\"\u001b[39m\n\u001b[1;32m   2628\u001b[0m             \u001b[38;5;124m\"\u001b[39m\u001b[38;5;124mtarget_names, \u001b[39m\u001b[38;5;132;01m{1}\u001b[39;00m\u001b[38;5;124m. Try specifying the labels \u001b[39m\u001b[38;5;124m\"\u001b[39m\n\u001b[1;32m   2629\u001b[0m             \u001b[38;5;124m\"\u001b[39m\u001b[38;5;124mparameter\u001b[39m\u001b[38;5;124m\"\u001b[39m\u001b[38;5;241m.\u001b[39mformat(\u001b[38;5;28mlen\u001b[39m(labels), \u001b[38;5;28mlen\u001b[39m(target_names))\n\u001b[1;32m   2630\u001b[0m         )\n\u001b[1;32m   2631\u001b[0m \u001b[38;5;28;01mif\u001b[39;00m target_names \u001b[38;5;129;01mis\u001b[39;00m \u001b[38;5;28;01mNone\u001b[39;00m:\n\u001b[1;32m   2632\u001b[0m     target_names \u001b[38;5;241m=\u001b[39m [\u001b[38;5;124m\"\u001b[39m\u001b[38;5;132;01m%s\u001b[39;00m\u001b[38;5;124m\"\u001b[39m \u001b[38;5;241m%\u001b[39m l \u001b[38;5;28;01mfor\u001b[39;00m l \u001b[38;5;129;01min\u001b[39;00m labels]\n",
      "\u001b[0;31mValueError\u001b[0m: Number of classes, 1, does not match size of target_names, 2. Try specifying the labels parameter"
     ]
    }
   ],
   "source": [
    "# Flujo principal\n",
    "if __name__ == \"__main__\":\n",
    "    respuestas_y_groundtruth = [\n",
    "        {\n",
    "  \"respuesta\": \"Placas solares elevadas permiten usar el espacio para agricultura.\",\n",
    "  \"groundtruth\": 1}\n",
    "    ]\n",
    "\n",
    "    resultados = generar_datos_para_matriz(respuestas_y_groundtruth)\n",
    "    calcular_matriz_confusion(resultados)\n"
   ]
  },
  {
   "cell_type": "code",
   "execution_count": 21,
   "metadata": {},
   "outputs": [
    {
     "name": "stdout",
     "output_type": "stream",
     "text": [
      "Respuesta: 1, Predicción: 1\n",
      "Respuesta: 0, Predicción: 1\n",
      "Groundtruth: [1, 0]\n",
      "Prediction: [1, 1]\n"
     ]
    },
    {
     "data": {
      "image/png": "[encoded data removed]",
      "text/plain": [
       "<Figure size 800x600 with 2 Axes>"
      ]
     },
     "metadata": {},
     "output_type": "display_data"
    },
    {
     "name": "stdout",
     "output_type": "stream",
     "text": [
      "              precision    recall  f1-score   support\n",
      "\n",
      "     Factual       0.00      0.00      0.00         1\n",
      " Alucinación       0.50      1.00      0.67         1\n",
      "\n",
      "    accuracy                           0.50         2\n",
      "   macro avg       0.25      0.50      0.33         2\n",
      "weighted avg       0.25      0.50      0.33         2\n",
      "\n"
     ]
    },
    {
     "name": "stderr",
     "output_type": "stream",
     "text": [
      "/Library/Frameworks/Python.framework/Versions/3.12/lib/python3.12/site-packages/sklearn/metrics/_classification.py:1509: UndefinedMetricWarning: Precision is ill-defined and being set to 0.0 in labels with no predicted samples. Use `zero_division` parameter to control this behavior.\n",
      "  _warn_prf(average, modifier, f\"{metric.capitalize()} is\", len(result))\n",
      "/Library/Frameworks/Python.framework/Versions/3.12/lib/python3.12/site-packages/sklearn/metrics/_classification.py:1509: UndefinedMetricWarning: Precision is ill-defined and being set to 0.0 in labels with no predicted samples. Use `zero_division` parameter to control this behavior.\n",
      "  _warn_prf(average, modifier, f\"{metric.capitalize()} is\", len(result))\n",
      "/Library/Frameworks/Python.framework/Versions/3.12/lib/python3.12/site-packages/sklearn/metrics/_classification.py:1509: UndefinedMetricWarning: Precision is ill-defined and being set to 0.0 in labels with no predicted samples. Use `zero_division` parameter to control this behavior.\n",
      "  _warn_prf(average, modifier, f\"{metric.capitalize()} is\", len(result))\n"
     ]
    }
   ],
   "source": [
    "# if __name__ == \"__main__\":\n",
    "#     respuestas_y_groundtruth = [\n",
    "#         {\n",
    "#             \"respuesta\": \"Placas solares elevadas permiten usar el espacio para agricultura.\",\n",
    "#             \"groundtruth\": 1\n",
    "#         },\n",
    "#         {\n",
    "#             \"respuesta\": \"Los paneles solares absorben CO2 del aire.\",\n",
    "#             \"groundtruth\": 0\n",
    "#         }\n",
    "#     ]\n",
    "\n",
    "#     resultados = generar_datos_para_matriz(respuestas_y_groundtruth)\n",
    "\n",
    "#     # Depura resultados\n",
    "#     for resultado in resultados:\n",
    "#         print(f\"Respuesta: {resultado['groundtruth']}, Predicción: {resultado['prediction']}\")\n",
    "\n",
    "#     calcular_matriz_confusion(resultados)\n"
   ]
  }
 ],
 "metadata": {
  "kernelspec": {
   "display_name": "Python 3",
   "language": "python",
   "name": "python3"
  },
  "language_info": {
   "codemirror_mode": {
    "name": "ipython",
    "version": 3
   },
   "file_extension": ".py",
   "mimetype": "text/x-python",
   "name": "python",
   "nbconvert_exporter": "python",
   "pygments_lexer": "ipython3",
   "version": "3.12.3"
  }
 },
 "nbformat": 4,
 "nbformat_minor": 2
}

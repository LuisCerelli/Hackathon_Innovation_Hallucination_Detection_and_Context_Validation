{
 "cells": [
  {
   "cell_type": "code",
   "execution_count": 1,
   "metadata": {},
   "outputs": [],
   "source": [
    "# MUY IMPORTANTE, Devido a las ultimas actualizaciones, ocurridas recientemente, éste modelo funciona con una versión específica de openai. Asegúrate de instalar la versión correcta:\n",
    "# pip uninstall openai\n",
    "# pip install openai==0.27.8"
   ]
  },
  {
   "cell_type": "code",
   "execution_count": 2,
   "metadata": {},
   "outputs": [
    {
     "name": "stdout",
     "output_type": "stream",
     "text": [
      "\n",
      "\u001b[1m[\u001b[0m\u001b[34;49mnotice\u001b[0m\u001b[1;39;49m]\u001b[0m\u001b[39;49m A new release of pip is available: \u001b[0m\u001b[31;49m24.2\u001b[0m\u001b[39;49m -> \u001b[0m\u001b[32;49m24.3.1\u001b[0m\n",
      "\u001b[1m[\u001b[0m\u001b[34;49mnotice\u001b[0m\u001b[1;39;49m]\u001b[0m\u001b[39;49m To update, run: \u001b[0m\u001b[32;49mpip install --upgrade pip\u001b[0m\n"
     ]
    }
   ],
   "source": [
    "!pip install -q openai azure-search-documents python-dotenv transformers scikit-learn matplotlib seaborn numpy spacy tiktoken\n",
    "!python -m spacy download es_core_news_sm > /dev/null 2>&1 # el \" > /dev/null 2>&1 \" es para que no se impriman todas las librerias en la salida, solo las excepciones"
   ]
  },
  {
   "cell_type": "code",
   "execution_count": 3,
   "metadata": {},
   "outputs": [],
   "source": [
    "# Instalar las librerías necesarias 2\n",
    "\n",
    "import os\n",
    "import openai\n",
    "from azure.core.credentials import AzureKeyCredential\n",
    "from azure.search.documents import SearchClient\n",
    "from azure.core.credentials import AzureKeyCredential\n",
    "from azure.core.pipeline.policies import RetryPolicy \n",
    "from dotenv import load_dotenv, find_dotenv\n",
    "from transformers import pipeline\n",
    "import numpy as np\n",
    "from sklearn.metrics import confusion_matrix, classification_report\n",
    "import matplotlib.pyplot as plt\n",
    "import seaborn as sns\n",
    "from sklearn.metrics.pairwise import cosine_similarity\n",
    "import tiktoken"
   ]
  },
  {
   "cell_type": "code",
   "execution_count": 4,
   "metadata": {},
   "outputs": [
    {
     "name": "stdout",
     "output_type": "stream",
     "text": [
      "Archivo .env encontrado en: /Users/luisalbertocerelli/Desktop/00-Todo/14_Hackaton_Real/00_MAIN_DE_MAIN/03_Modelo_Alucinacion_y_matriz_confusion/.env\n"
     ]
    }
   ],
   "source": [
    "# Cargar archivo .env\n",
    "dotenv_path = find_dotenv()\n",
    "if dotenv_path:\n",
    "    print(f\"Archivo .env encontrado en: {dotenv_path}\")\n",
    "    load_dotenv(dotenv_path)\n",
    "else:\n",
    "    print(\"Archivo .env no encontrado. Asegúrate de que exista y esté en la ruta correcta.\")"
   ]
  },
  {
   "cell_type": "markdown",
   "metadata": {},
   "source": [
    "### Configuración de credenciales para Azure Cognitive Search y OpenAI\n",
    "* Inicializa las variables necesarias para conectarse a servicios de Azure Cognitive Search y OpenAI.\n",
    "* Configura el cliente OpenAI con la clave API.\n",
    "* Configura el cliente de Azure Search con credenciales y el nombre del índice."
   ]
  },
  {
   "cell_type": "code",
   "execution_count": 5,
   "metadata": {},
   "outputs": [],
   "source": [
    "# Variables necesarias para Azure AI Search\n",
    "AZURE_SEARCH_ENDPOINT = os.getenv(\"SEARCH_SERVICE_ENDPOINT\", \"\").strip()\n",
    "AZURE_SEARCH_KEY = os.getenv(\"SEARCH_API_KEY\", \"\").strip()\n",
    "INDEX_NAME = os.getenv(\"INDEX_NAME\", \"\").strip()"
   ]
  },
  {
   "cell_type": "code",
   "execution_count": 6,
   "metadata": {},
   "outputs": [],
   "source": [
    "# Variables necesarias para OpenAI\n",
    "OPENAI_API_KEY = os.getenv(\"OPENAI_API_KEY\", \"\").strip()\n",
    "MODEL_NAME = os.getenv(\"MODEL_NAME\", \"text-embedding-ada-002\").strip()"
   ]
  },
  {
   "cell_type": "code",
   "execution_count": 7,
   "metadata": {},
   "outputs": [],
   "source": [
    "# Configurar cliente OpenAI\n",
    "openai.api_key = OPENAI_API_KEY\n",
    "\n",
    "# Configuración para Azure OpenAI\n",
    "AZURE_OPENAI_ENDPOINT = os.getenv(\"AZURE_OPENAI_ENDPOINT\", \"\").strip()\n",
    "AZURE_OPENAI_KEY = os.getenv(\"AZURE_OPENAI_KEY\", \"\").strip()\n",
    "ENGINE_NAME = os.getenv(\"ENGINE_NAME\", MODEL_NAME)\n",
    "\n",
    "if AZURE_OPENAI_ENDPOINT and AZURE_OPENAI_KEY:\n",
    "    openai.api_type = \"azure\"\n",
    "    openai.api_base = AZURE_OPENAI_ENDPOINT\n",
    "    openai.api_version = \"2023-03-15-preview\"\n",
    "    openai.api_key = AZURE_OPENAI_KEY"
   ]
  },
  {
   "cell_type": "code",
   "execution_count": 8,
   "metadata": {},
   "outputs": [],
   "source": [
    "# Cliente de Azure Cognitive Search\n",
    "search_client = SearchClient(\n",
    "    endpoint=AZURE_SEARCH_ENDPOINT,\n",
    "    index_name=INDEX_NAME,\n",
    "    credential=AzureKeyCredential(AZURE_SEARCH_KEY)\n",
    ")"
   ]
  },
  {
   "cell_type": "markdown",
   "metadata": {},
   "source": [
    "### Pipeline de factualidad en español e ingles\n",
    "* Inicializa un pipeline de \"mrm8488/bert-multi-cased-finetuned-xquadv1\" especializado en preguntas y respuestas para evaluar factualidad en español e ingles."
   ]
  },
  {
   "cell_type": "code",
   "execution_count": 9,
   "metadata": {},
   "outputs": [
    {
     "name": "stderr",
     "output_type": "stream",
     "text": [
      "Some weights of the model checkpoint at mrm8488/bert-multi-cased-finetuned-xquadv1 were not used when initializing BertForQuestionAnswering: ['bert.pooler.dense.bias', 'bert.pooler.dense.weight']\n",
      "- This IS expected if you are initializing BertForQuestionAnswering from the checkpoint of a model trained on another task or with another architecture (e.g. initializing a BertForSequenceClassification model from a BertForPreTraining model).\n",
      "- This IS NOT expected if you are initializing BertForQuestionAnswering from the checkpoint of a model that you expect to be exactly identical (initializing a BertForSequenceClassification model from a BertForSequenceClassification model).\n",
      "Device set to use mps:0\n"
     ]
    }
   ],
   "source": [
    "\n",
    "# Carga pipeline de factualidad en español con el modelo \"mrm8488/bert-multi-cased-finetuned-xquadv1\" que es tanto para ingles como español.\n",
    "factual_pipeline = pipeline(\n",
    "    \"question-answering\",\n",
    "    model=\"mrm8488/bert-multi-cased-finetuned-xquadv1\",\n",
    "    tokenizer=\"mrm8488/bert-multi-cased-finetuned-xquadv1\",\n",
    "    framework=\"pt\"\n",
    ")"
   ]
  },
  {
   "cell_type": "markdown",
   "metadata": {},
   "source": [
    "### Funciones de manejo de texto y tokens\n",
    "* contar_tokens: Calcula la cantidad de tokens en un texto para un modelo específico.\n",
    "* dividir_texto_en_fragmentos: Divide un texto en fragmentos que no exceden el límite de tokens del modelo."
   ]
  },
  {
   "cell_type": "code",
   "execution_count": 10,
   "metadata": {},
   "outputs": [],
   "source": [
    "# Función para medir tokens\n",
    "def contar_tokens(texto, modelo=\"text-embedding-ada-002\"):\n",
    "    \"\"\"Cuenta la cantidad de tokens en un texto usando el modelo especificado.\"\"\"\n",
    "    tokenizador = tiktoken.encoding_for_model(modelo)\n",
    "    return len(tokenizador.encode(texto))"
   ]
  },
  {
   "cell_type": "code",
   "execution_count": 11,
   "metadata": {},
   "outputs": [],
   "source": [
    "# Función para dividir texto en fragmentos más pequeños\n",
    "def dividir_texto_en_fragmentos(texto, max_tokens=8192):\n",
    "    \"\"\"Divide un texto en fragmentos que no excedan el límite de tokens del modelo.\"\"\"\n",
    "    tokenizador = tiktoken.encoding_for_model(\"text-embedding-ada-002\")\n",
    "    tokens = tokenizador.encode(texto)\n",
    "\n",
    "    for i in range(0, len(tokens), max_tokens):\n",
    "        yield tokenizador.decode(tokens[i:i + max_tokens])"
   ]
  },
  {
   "cell_type": "markdown",
   "metadata": {},
   "source": [
    "### Funciones para validar y calcular embeddings\n",
    "* validar_embeddings: Verifica que un embedding no contenga valores inválidos.\n",
    "* obtener_embeddings_batch: Calcula embeddings para un lote de textos con validación y manejo de fragmentos."
   ]
  },
  {
   "cell_type": "code",
   "execution_count": 12,
   "metadata": {},
   "outputs": [],
   "source": [
    "# Función para validar embeddings\n",
    "def validar_embeddings(embedding):\n",
    "    \"\"\"Valida que el embedding no contenga NaN o valores inválidos.\"\"\"\n",
    "    if embedding is None or not np.isfinite(embedding).all():\n",
    "        return False\n",
    "    return True"
   ]
  },
  {
   "cell_type": "code",
   "execution_count": 13,
   "metadata": {},
   "outputs": [],
   "source": [
    "# Función para obtener embeddings usando batching con validación\n",
    "def obtener_embeddings_batch(textos):\n",
    "    \"\"\"Obtiene embeddings para un lote de textos en una sola solicitud, con validación.\"\"\"\n",
    "    embeddings_cache = []\n",
    "    for texto in textos:\n",
    "        if not texto or not texto.strip():\n",
    "            print(f\"Advertencia: Texto vacío o no válido detectado. Texto: '{texto}'\")\n",
    "            embeddings_cache.append(None)\n",
    "            continue\n",
    "\n",
    "        fragmentos = list(dividir_texto_en_fragmentos(texto, max_tokens=8192))\n",
    "        embedding_total = []\n",
    "\n",
    "        for fragmento in fragmentos:\n",
    "            try:\n",
    "                response = openai.Embedding.create(\n",
    "                    input=fragmento,\n",
    "                    engine=ENGINE_NAME\n",
    "                )\n",
    "                embedding_fragmento = response['data'][0]['embedding']\n",
    "\n",
    "                if not validar_embeddings(embedding_fragmento):\n",
    "                    embeddings_cache.append(None)\n",
    "                    break\n",
    "\n",
    "                embedding_total.append(embedding_fragmento)\n",
    "            except Exception as e:\n",
    "                embeddings_cache.append(None)\n",
    "                break\n",
    "\n",
    "        if embedding_total:\n",
    "            embeddings_cache.append(np.mean(embedding_total, axis=0))\n",
    "        else:\n",
    "            embeddings_cache.append(None)\n",
    "\n",
    "    return embeddings_cache"
   ]
  },
  {
   "cell_type": "markdown",
   "metadata": {},
   "source": [
    "### Función para verificar factualidad\n",
    "* verificar_factualidad_respuesta: Combina el pipeline de factualidad y la similitud de embeddings para determinar si una respuesta es factual."
   ]
  },
  {
   "cell_type": "code",
   "execution_count": 14,
   "metadata": {},
   "outputs": [],
   "source": [
    "# Función para verificar factualidad\n",
    "def verificar_factualidad_respuesta(respuesta, documentos_referencia, umbral=0.6):\n",
    "    \"\"\"Verifica la factualidad combinando pipeline y similitud semántica utilizando embeddings de OpenAI.\"\"\"\n",
    "    scores_factualidad = []\n",
    "    scores_similitud = []\n",
    "\n",
    "    for doc in documentos_referencia:\n",
    "        resultado = factual_pipeline(question=respuesta, context=doc[\"content\"])\n",
    "        scores_factualidad.append(resultado[\"score\"])\n",
    "\n",
    "        emb_respuesta = obtener_embeddings_batch([respuesta])[0]\n",
    "        emb_contexto = obtener_embeddings_batch([doc[\"content\"]])[0]\n",
    "\n",
    "        if emb_respuesta is None or emb_contexto is None:\n",
    "            continue\n",
    "\n",
    "        similarity = cosine_similarity([emb_respuesta], [emb_contexto])[0][0]\n",
    "        scores_similitud.append(similarity)\n",
    "\n",
    "    avg_factualidad = np.mean(scores_factualidad) if scores_factualidad else 0\n",
    "    avg_similitud = np.mean(scores_similitud) if scores_similitud else 0\n",
    "\n",
    "    peso_factualidad = 0.4\n",
    "    peso_similitud = 0.6\n",
    "    puntaje_total = (avg_factualidad * peso_factualidad) + (avg_similitud * peso_similitud)\n",
    "    es_factual = puntaje_total >= umbral\n",
    "    return puntaje_total, es_factual"
   ]
  },
  {
   "cell_type": "markdown",
   "metadata": {},
   "source": [
    "### Funciones de evaluación\n",
    "* evaluar_respuesta: Evalúa si una respuesta es factual, utilizando documentos de Azure y embeddings.\n",
    "* buscar_en_azure: Realiza una búsqueda en Azure Cognitive Search para obtener documentos relevantes."
   ]
  },
  {
   "cell_type": "code",
   "execution_count": 15,
   "metadata": {},
   "outputs": [],
   "source": [
    "# Evaluar respuesta\n",
    "def evaluar_respuesta(respuesta):\n",
    "    \"\"\"Evalúa si la respuesta es factual.\"\"\"\n",
    "    documentos = buscar_en_azure(respuesta)\n",
    "    if not documentos:\n",
    "        print(\"Advertencia: No se encontraron documentos. Evaluación como alucinación.\")\n",
    "    return len(documentos) > 0  # Evalúa si hay resultados"
   ]
  },
  {
   "cell_type": "code",
   "execution_count": 16,
   "metadata": {},
   "outputs": [],
   "source": [
    "def buscar_en_azure(query, index_name=\"documentos-huella\"):\n",
    "    \"\"\"Busca documentos en un índice de Azure Search.\"\"\"\n",
    "    try:\n",
    "        # Recuperar las credenciales desde las variables de entorno\n",
    "        search_service_endpoint = os.getenv(\"SEARCH_SERVICE_ENDPOINT\")\n",
    "        search_api_key = os.getenv(\"SEARCH_API_KEY\")\n",
    "\n",
    "        # Verificar que las credenciales estén disponibles\n",
    "        if not search_service_endpoint or not search_api_key:\n",
    "            raise ValueError(\"Las credenciales de Azure Search no están definidas correctamente en el entorno.\")\n",
    "\n",
    "        # Configurar el cliente con políticas de reintento\n",
    "        retry_policy = RetryPolicy(total_retries=3)\n",
    "        search_client = SearchClient(\n",
    "            endpoint=search_service_endpoint,\n",
    "            index_name=index_name,\n",
    "            credential=AzureKeyCredential(search_api_key),\n",
    "            retry_policy=retry_policy\n",
    "        )\n",
    "\n",
    "        # Recuperar documentos en lotes de 100\n",
    "        resultados = search_client.search(query, top=100)\n",
    "        documentos = []\n",
    "        for r in resultados:\n",
    "            documentos.append({\n",
    "                \"id\": r.get(\"id\", \"unknown\"),\n",
    "                \"content\": r.get(\"content\", \"\"),\n",
    "                \"source\": r.get(\"@search.documentkey\", \"unknown_source\")\n",
    "            })\n",
    "        return documentos\n",
    "    except Exception as e:\n",
    "        print(f\"Error al buscar en el índice {index_name}: {e}\")\n",
    "        return []"
   ]
  },
  {
   "cell_type": "markdown",
   "metadata": {},
   "source": [
    "### Generación y evaluación de datos para métricas\n",
    "* generar_datos_para_matriz: Genera predicciones y etiquetas reales para comparar respuestas con su ground truth."
   ]
  },
  {
   "cell_type": "code",
   "execution_count": 17,
   "metadata": {},
   "outputs": [],
   "source": [
    "# Generar datos para matriz de confusión\n",
    "def generar_datos_para_matriz(respuestas_y_groundtruth):\n",
    "    \"\"\"Genera predicciones y etiquetas reales.\"\"\"\n",
    "    resultados = []\n",
    "    for entrada in respuestas_y_groundtruth:\n",
    "        respuesta = entrada[\"respuesta\"]\n",
    "        groundtruth = entrada[\"groundtruth\"]\n",
    "        prediccion = evaluar_respuesta(respuesta)\n",
    "        resultados.append({\"groundtruth\": groundtruth, \"prediction\": prediccion})\n",
    "    return resultados"
   ]
  },
  {
   "cell_type": "markdown",
   "metadata": {},
   "source": [
    "### Visualización y análisis de resultados\n",
    "* calcular_matriz_confusion: Calcula y muestra la matriz de confusión y el informe de clasificación."
   ]
  },
  {
   "cell_type": "code",
   "execution_count": 18,
   "metadata": {},
   "outputs": [],
   "source": [
    "def calcular_matriz_confusion(resultados):\n",
    "    \"\"\"Calcula y visualiza la matriz de confusión.\"\"\"\n",
    "    groundtruth = [r[\"groundtruth\"] for r in resultados]\n",
    "    prediction = [r[\"prediction\"] for r in resultados]\n",
    "\n",
    "    # Depuración\n",
    "    print(\"Groundtruth:\", groundtruth)\n",
    "    print(\"Prediction:\", prediction)\n",
    "\n",
    "    cm = confusion_matrix(groundtruth, prediction, labels=[0, 1])\n",
    "    plt.figure(figsize=(8, 6))\n",
    "    sns.heatmap(cm, annot=True, fmt='d', cmap='Blues',\n",
    "                xticklabels=[\"Factual\", \"Alucinación\"], yticklabels=[\"Factual\", \"Alucinación\"])\n",
    "    plt.xlabel('Predicción')\n",
    "    plt.ylabel('Etiqueta Real')\n",
    "    plt.title('Matriz de Confusión')\n",
    "    plt.show()\n",
    "\n",
    "    print(classification_report(\n",
    "        groundtruth,\n",
    "        prediction,\n",
    "        target_names=[\"Factual\", \"Alucinación\"],\n",
    "        labels=[0, 1]\n",
    "    ))"
   ]
  },
  {
   "cell_type": "markdown",
   "metadata": {},
   "source": [
    "### Flujo principal\n",
    "* Define un conjunto de datos de respuestas y ground truth.\n",
    "* Genera resultados a partir de las respuestas.\n",
    "* Calcula y visualiza la matriz de confusión para evaluar el modelo."
   ]
  },
  {
   "cell_type": "code",
   "execution_count": 19,
   "metadata": {},
   "outputs": [
    {
     "name": "stdout",
     "output_type": "stream",
     "text": [
      "Respuesta: 1, Predicción: True\n",
      "Respuesta: 0, Predicción: True\n",
      "Groundtruth: [1, 0]\n",
      "Prediction: [True, True]\n"
     ]
    },
    {
     "data": {
      "image/png": "[encoded data removed]",
      "text/plain": [
       "<Figure size 800x600 with 2 Axes>"
      ]
     },
     "metadata": {},
     "output_type": "display_data"
    },
    {
     "name": "stdout",
     "output_type": "stream",
     "text": [
      "              precision    recall  f1-score   support\n",
      "\n",
      "     Factual       0.00      0.00      0.00         1\n",
      " Alucinación       0.50      1.00      0.67         1\n",
      "\n",
      "    accuracy                           0.50         2\n",
      "   macro avg       0.25      0.50      0.33         2\n",
      "weighted avg       0.25      0.50      0.33         2\n",
      "\n"
     ]
    },
    {
     "name": "stderr",
     "output_type": "stream",
     "text": [
      "/Library/Frameworks/Python.framework/Versions/3.12/lib/python3.12/site-packages/sklearn/metrics/_classification.py:1509: UndefinedMetricWarning: Precision is ill-defined and being set to 0.0 in labels with no predicted samples. Use `zero_division` parameter to control this behavior.\n",
      "  _warn_prf(average, modifier, f\"{metric.capitalize()} is\", len(result))\n",
      "/Library/Frameworks/Python.framework/Versions/3.12/lib/python3.12/site-packages/sklearn/metrics/_classification.py:1509: UndefinedMetricWarning: Precision is ill-defined and being set to 0.0 in labels with no predicted samples. Use `zero_division` parameter to control this behavior.\n",
      "  _warn_prf(average, modifier, f\"{metric.capitalize()} is\", len(result))\n",
      "/Library/Frameworks/Python.framework/Versions/3.12/lib/python3.12/site-packages/sklearn/metrics/_classification.py:1509: UndefinedMetricWarning: Precision is ill-defined and being set to 0.0 in labels with no predicted samples. Use `zero_division` parameter to control this behavior.\n",
      "  _warn_prf(average, modifier, f\"{metric.capitalize()} is\", len(result))\n"
     ]
    }
   ],
   "source": [
    "if __name__ == \"__main__\":\n",
    "    respuestas_y_groundtruth = [\n",
    "        {\n",
    "            \"respuesta\": \"Placas solares elevadas permiten usar el espacio para agricultura.\",\n",
    "            \"groundtruth\": 1\n",
    "        },\n",
    "        {\n",
    "            \"respuesta\": \"Los paneles solares absorben CO2 del aire.\",\n",
    "            \"groundtruth\": 0\n",
    "        }\n",
    "    ]\n",
    "\n",
    "    resultados = generar_datos_para_matriz(respuestas_y_groundtruth)\n",
    "\n",
    "    # Depura resultados\n",
    "    for resultado in resultados:\n",
    "        print(f\"Respuesta: {resultado['groundtruth']}, Predicción: {resultado['prediction']}\")\n",
    "\n",
    "    calcular_matriz_confusion(resultados)"
   ]
  }
 ],
 "metadata": {
  "kernelspec": {
   "display_name": "Python 3",
   "language": "python",
   "name": "python3"
  },
  "language_info": {
   "codemirror_mode": {
    "name": "ipython",
    "version": 3
   },
   "file_extension": ".py",
   "mimetype": "text/x-python",
   "name": "python",
   "nbconvert_exporter": "python",
   "pygments_lexer": "ipython3",
   "version": "3.12.3"
  }
 },
 "nbformat": 4,
 "nbformat_minor": 2
}
